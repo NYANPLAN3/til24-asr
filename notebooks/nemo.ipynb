{
 "cells": [
  {
   "cell_type": "code",
   "execution_count": null,
   "metadata": {},
   "outputs": [],
   "source": [
    "import nemo.collections.asr as nemo_asr\n",
    "from nemo.collections.asr.models import EncDecRNNTBPEModel"
   ]
  },
  {
   "cell_type": "code",
   "execution_count": null,
   "metadata": {},
   "outputs": [],
   "source": [
    "# model = EncDecRNNTBPEModel.from_pretrained(\n",
    "#     model_name=\"nvidia/parakeet-tdt-1.1b\",\n",
    "#     map_location=\"cpu\",\n",
    "# )\n",
    "model: EncDecRNNTBPEModel = EncDecRNNTBPEModel.restore_from(\n",
    "    \"./parakeet-tdt-1.1b-fp16.nemo\"\n",
    ")"
   ]
  },
  {
   "cell_type": "code",
   "execution_count": null,
   "metadata": {},
   "outputs": [],
   "source": [
    "model = model.eval().half()\n",
    "# model.save_to(\"parakeet-tdt-1.1b-fp16.nemo\")"
   ]
  },
  {
   "cell_type": "code",
   "execution_count": null,
   "metadata": {},
   "outputs": [],
   "source": [
    "model.transcribe()"
   ]
  }
 ],
 "metadata": {
  "kernelspec": {
   "display_name": ".venv",
   "language": "python",
   "name": "python3"
  },
  "language_info": {
   "codemirror_mode": {
    "name": "ipython",
    "version": 3
   },
   "file_extension": ".py",
   "mimetype": "text/x-python",
   "name": "python",
   "nbconvert_exporter": "python",
   "pygments_lexer": "ipython3",
   "version": "3.11.9"
  }
 },
 "nbformat": 4,
 "nbformat_minor": 2
}
